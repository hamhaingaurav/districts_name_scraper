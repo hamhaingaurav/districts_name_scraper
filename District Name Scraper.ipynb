{
 "cells": [
  {
   "cell_type": "code",
   "execution_count": null,
   "metadata": {
    "scrolled": true
   },
   "outputs": [],
   "source": [
    "from bs4 import BeautifulSoup\n",
    "import requests\n",
    "\n",
    "url = 'https://en.wikipedia.org/wiki/List_of_districts_in_India'\n",
    "html_code = requests.get(url).text\n",
    "\n",
    "soup = BeautifulSoup(html_code,'lxml')\n",
    "\n",
    "districts = []\n",
    "\n",
    "tables = soup.find_all('table',class_='wikitable')[1:29] # Should use find_all() for all tables\n",
    "state_id = 1\n",
    "for table in tables:\n",
    "    tbody = table.find('tbody') # Only one tbody for one table\n",
    "    rows = tbody.find_all('tr')[1:] # Should use find_all() for all tables\n",
    "    for row in rows:\n",
    "        td = row.find_all('td')[2]\n",
    "        district_name = td.a.text\n",
    "        districts.append((state_id,district_name))\n",
    "    state_id+=1"
   ]
  },
  {
   "cell_type": "code",
   "execution_count": null,
   "metadata": {},
   "outputs": [],
   "source": [
    "print(districts)\n",
    "print(len(districts))"
   ]
  },
  {
   "cell_type": "code",
   "execution_count": null,
   "metadata": {},
   "outputs": [],
   "source": [
    "import psycopg2\n",
    "from datetime import datetime\n",
    "\n",
    "conn = psycopg2.connect(dbname='',host='',password='')\n",
    "cur = conn.cursor()\n",
    "\n",
    "i = 1\n",
    "for district in districts:\n",
    "    print(district,i)\n",
    "    try:\n",
    "        cur.execute(\"INSERT INTO public.config_district (district_id, district_name, state_id, is_active, created_by_id, created_on, updated_by_id, updated_on) \\\n",
    "    VALUES (%s,%s,%s,%s,%s,%s,%s,%s)\",(i, district[1],district[0],True,1,datetime.now(),1,datetime.now()))\n",
    "        i+=1\n",
    "    except psycopg2.Error as e:\n",
    "        i+=1\n",
    "    \n",
    "conn.commit()\n",
    "conn.close()"
   ]
  }
 ],
 "metadata": {
  "kernelspec": {
   "display_name": "Python 3",
   "language": "python",
   "name": "python3"
  },
  "language_info": {
   "codemirror_mode": {
    "name": "ipython",
    "version": 3
   },
   "file_extension": ".py",
   "mimetype": "text/x-python",
   "name": "python",
   "nbconvert_exporter": "python",
   "pygments_lexer": "ipython3",
   "version": "3.8.3"
  }
 },
 "nbformat": 4,
 "nbformat_minor": 2
}
